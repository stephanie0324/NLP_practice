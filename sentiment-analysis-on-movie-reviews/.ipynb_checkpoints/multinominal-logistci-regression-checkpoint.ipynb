{
 "cells": [
  {
   "cell_type": "markdown",
   "id": "08c1eaf9",
   "metadata": {},
   "source": [
    "# 文本分類\n",
    "* Dataset Description   \n",
    "    The dataset is comprised of tab-separated files with phrases from the Rotten Tomatoes dataset. The train/test split has been preserved for the purposes of benchmarking, but the sentences have been shuffled from their original order. Each Sentence has been parsed into many phrases by the Stanford parser. Each phrase has a PhraseId. Each sentence has a SentenceId. Phrases that are repeated (such as short/common words) are only included once in the data.\n",
    "* Sentiment Label  \n",
    "    0 - negative  \n",
    "    1 - somewhat negative  \n",
    "    2 - neutral  \n",
    "    3 - somewhat positive  \n",
    "    4 - positive"
   ]
  },
  {
   "cell_type": "markdown",
   "id": "bb6f6f5d",
   "metadata": {},
   "source": [
    "## Import"
   ]
  },
  {
   "cell_type": "code",
   "execution_count": 1,
   "id": "1635b897",
   "metadata": {
    "ExecuteTime": {
     "end_time": "2023-09-14T16:03:16.408139Z",
     "start_time": "2023-09-14T16:03:11.566447Z"
    }
   },
   "outputs": [
    {
     "name": "stderr",
     "output_type": "stream",
     "text": [
      "Matplotlib created a temporary config/cache directory at /tmp/matplotlib-5sff4b7d because the default path (/home/emma/.config/matplotlib) is not a writable directory; it is highly recommended to set the MPLCONFIGDIR environment variable to a writable directory, in particular to speed up the import of Matplotlib and to better support multiprocessing.\n"
     ]
    }
   ],
   "source": [
    "import pandas as pd\n",
    "import numpy as np\n",
    "import matplotlib.pyplot as plt\n",
    "import math\n",
    "import string\n",
    "from collections import Counter\n",
    "from nltk.corpus import stopwords\n",
    "from nltk.stem import PorterStemmer"
   ]
  },
  {
   "cell_type": "markdown",
   "id": "ff8ccd39",
   "metadata": {},
   "source": [
    "## File"
   ]
  },
  {
   "cell_type": "code",
   "execution_count": 2,
   "id": "012dbd11",
   "metadata": {
    "ExecuteTime": {
     "end_time": "2023-09-14T16:03:16.634022Z",
     "start_time": "2023-09-14T16:03:16.443935Z"
    },
    "collapsed": true
   },
   "outputs": [],
   "source": [
    "df = pd.read_csv('./data/train.tsv', sep='\\t')"
   ]
  },
  {
   "cell_type": "code",
   "execution_count": 3,
   "id": "e504a45b",
   "metadata": {
    "ExecuteTime": {
     "end_time": "2023-09-14T16:03:16.707064Z",
     "start_time": "2023-09-14T16:03:16.695749Z"
    },
    "collapsed": true
   },
   "outputs": [],
   "source": [
    "df = df.drop_duplicates(subset=['SentenceId'] , keep = 'first')"
   ]
  },
  {
   "cell_type": "code",
   "execution_count": 4,
   "id": "fc3eb5aa",
   "metadata": {
    "ExecuteTime": {
     "end_time": "2023-09-14T16:03:16.767393Z",
     "start_time": "2023-09-14T16:03:16.758301Z"
    }
   },
   "outputs": [
    {
     "data": {
      "text/plain": [
       "Counter({1: 2200, 4: 1281, 3: 2321, 2: 1655, 0: 1072})"
      ]
     },
     "execution_count": 4,
     "metadata": {},
     "output_type": "execute_result"
    }
   ],
   "source": [
    "Counter(df.Sentiment)"
   ]
  },
  {
   "cell_type": "markdown",
   "id": "2a985cf1",
   "metadata": {},
   "source": [
    "## Text Preprocessing"
   ]
  },
  {
   "cell_type": "code",
   "execution_count": 5,
   "id": "6f9ec3c9",
   "metadata": {
    "ExecuteTime": {
     "end_time": "2023-09-14T16:03:16.849535Z",
     "start_time": "2023-09-14T16:03:16.826418Z"
    }
   },
   "outputs": [
    {
     "data": {
      "text/plain": [
       "'A series of escapades demonstrating the adage that what is good for the goose is also good for the gander , some of which occasionally amuses but none of which amounts to much of a story .'"
      ]
     },
     "execution_count": 5,
     "metadata": {},
     "output_type": "execute_result"
    }
   ],
   "source": [
    "df.Phrase[0]"
   ]
  },
  {
   "cell_type": "code",
   "execution_count": 6,
   "id": "5f282013",
   "metadata": {
    "ExecuteTime": {
     "end_time": "2023-09-14T16:03:16.910259Z",
     "start_time": "2023-09-14T16:03:16.899614Z"
    },
    "collapsed": true
   },
   "outputs": [],
   "source": [
    "def text_preprocess(str_) -> list:\n",
    "    list_ = str_.split(' ')\n",
    "    \n",
    "    #Import the english stop words list from NLTK\n",
    "    stopwords_english = stopwords.words('english') \n",
    "    \n",
    "    #Creating a list of words without stopwords\n",
    "    str_cleaned = []\n",
    "    for word in list_:\n",
    "        if word not in stopwords_english and word not in string.punctuation:\n",
    "            str_cleaned.append(word)\n",
    "        \n",
    "    #Instantiate stemming class\n",
    "    stemmer = PorterStemmer()\n",
    "    \n",
    "    #Creating a list of stems of words in tweet\n",
    "    str_stem = []\n",
    "    for word in str_cleaned:\n",
    "        stem_word = stemmer.stem(word)\n",
    "        str_stem.append(stem_word)\n",
    "    return str_stem"
   ]
  },
  {
   "cell_type": "code",
   "execution_count": 7,
   "id": "8acda010",
   "metadata": {
    "ExecuteTime": {
     "end_time": "2023-09-14T16:03:22.608204Z",
     "start_time": "2023-09-14T16:03:16.960709Z"
    },
    "collapsed": true
   },
   "outputs": [],
   "source": [
    "df['processed_text'] = df.Phrase.apply(lambda x : text_preprocess(x))"
   ]
  },
  {
   "cell_type": "markdown",
   "id": "b1391cf1",
   "metadata": {},
   "source": [
    "## Text Feature\n",
    "* Bag-of-words\n",
    "* n-gram : cut down the numbers of bag of words"
   ]
  },
  {
   "cell_type": "markdown",
   "id": "17b6ca08",
   "metadata": {},
   "source": [
    "### Bag of words"
   ]
  },
  {
   "cell_type": "code",
   "execution_count": 8,
   "id": "2f7f7c73",
   "metadata": {
    "ExecuteTime": {
     "end_time": "2023-09-14T16:03:22.711801Z",
     "start_time": "2023-09-14T16:03:22.680868Z"
    },
    "collapsed": true
   },
   "outputs": [],
   "source": [
    "# create bag-of-words\n",
    "bag_of_words = {}\n",
    "index = 0\n",
    "for list_ in df.processed_text:\n",
    "    for word in list_:\n",
    "        if word not in bag_of_words:\n",
    "            bag_of_words[word]=index\n",
    "            index+=1"
   ]
  },
  {
   "cell_type": "code",
   "execution_count": 9,
   "id": "22b9f4dc",
   "metadata": {
    "ExecuteTime": {
     "end_time": "2023-09-14T16:03:26.765367Z",
     "start_time": "2023-09-14T16:03:22.799484Z"
    },
    "collapsed": true
   },
   "outputs": [],
   "source": [
    "def text_to_bow_vector(processed_text, features_dict):\n",
    "    \"\"\"\n",
    "    sample_text: string\n",
    "    \"\"\"\n",
    "    bow_vector = [0] * len(features_dict)\n",
    "    for token in processed_text:\n",
    "        try:\n",
    "            feature_index = features_dict[token]\n",
    "            bow_vector[feature_index] += 1\n",
    "        except:\n",
    "            pass\n",
    "    return bow_vector\n",
    "df['bow_text'] = df.processed_text.apply(lambda x : text_to_bow_vector(x,bag_of_words))"
   ]
  },
  {
   "cell_type": "markdown",
   "id": "a98cd8c6",
   "metadata": {},
   "source": [
    "### N-grams"
   ]
  },
  {
   "cell_type": "code",
   "execution_count": 10,
   "id": "4dcd71c1",
   "metadata": {
    "ExecuteTime": {
     "end_time": "2023-09-14T16:03:27.022063Z",
     "start_time": "2023-09-14T16:03:27.018339Z"
    },
    "collapsed": true
   },
   "outputs": [],
   "source": [
    "def n_gram(processed_text, n=1):\n",
    "    ngrams = zip(*[processed_text[i:] for i in range(n)])\n",
    "    return [\" \".join(ngram) for ngram in ngrams]"
   ]
  },
  {
   "cell_type": "markdown",
   "id": "660cb6ea",
   "metadata": {},
   "source": [
    "## Model - Logistic Regression (softmax)\n",
    "Since we are dealing with a multinomial prediction, we modify the logistic regression into softmax.  \n",
    "Uses the cross-entropy function to find the similarity distance between the probabilities calculated from the softmax function and the target one-hot-encoding matrix.\n",
    "\n",
    "\n",
    "* [logistic regression explained](* [Logistic Regression](https://towardsdatascience.com/logistic-regression-detailed-overview-46c4da4303bc)"
   ]
  },
  {
   "cell_type": "code",
   "execution_count": 95,
   "id": "e8c23143",
   "metadata": {
    "ExecuteTime": {
     "end_time": "2023-09-15T15:57:50.845193Z",
     "start_time": "2023-09-15T15:57:50.828236Z"
    }
   },
   "outputs": [],
   "source": [
    "from sklearn.preprocessing import OneHotEncoder\n",
    "\n",
    "\n",
    "class MultipleLogRegression:\n",
    "    \n",
    "    def __init__(self,learning_rate=0.1,n_iters=100,loss=[]):\n",
    "        self.lr=learning_rate\n",
    "        self.iters=n_iters\n",
    "        self.W=None\n",
    "        self.loss=loss\n",
    "    \n",
    "    def softmax(self , x):\n",
    "        \n",
    "        \"\"\"\n",
    "            If the numbers are too big the exponents will probably blow up.\n",
    "            To avoid this, first shift the highest value in array to zero.\n",
    "        \"\"\"\n",
    "        e_x = np.exp(x - np.max(x))\n",
    "        return e_x / np.sum(e_x, axis=0)\n",
    "    \n",
    "    def cross_entropy_loss(self, y_pred, y_true):\n",
    "#         Loss_val = 0 # define loss\n",
    "#         for i in range(y_pred.shape[0]): # iterate through X\n",
    "#             Loss_val -= np.vdot(y_true[i],np.log(y_pred[i])) # Cross-entropy Loss\n",
    "        return -(np.sum(y_true*np.log(y_pred)))/len(y_pred)\n",
    "        \n",
    "        \n",
    "    def fit(self,X,y):\n",
    "        ones=np.ones(X.shape[0])\n",
    "        features=np.c_[ones,X]\n",
    "        onehot_encoder = OneHotEncoder(sparse=False)\n",
    "        y_encode=onehot_encoder.fit_transform(y.reshape(-1,1))\n",
    "        self.W=np.zeros((features.shape[1], y_encode.shape[1]))\n",
    "        samples=X.shape[0]\n",
    "        \n",
    "        for i in range(self.iters):\n",
    "            Z=features@self.W\n",
    "            prob_y=np.array([ self.softmax(l_) for l_ in Z])\n",
    "            loss = self.cross_entropy_loss(prob_y,y_encode)\n",
    "            dW=1/samples * (features.T @ (prob_y-y_encode))\n",
    "            self.W-=self.lr*dW\n",
    "            self.loss.append(loss)\n",
    "            if i %20 ==0:\n",
    "                print(f'Now progress .... {i} .... loss : {loss}')\n",
    "        return self.loss\n",
    "            \n",
    "    def predict(self,X):\n",
    "        ones=np.ones(X.shape[0])\n",
    "        features=np.c_[ones,X]\n",
    "        Z=-features@self.W\n",
    "        y=softmax(Z)\n",
    "        return np.argmax(y,axis=1)\n"
   ]
  },
  {
   "cell_type": "code",
   "execution_count": 96,
   "id": "a8d76fd8",
   "metadata": {
    "ExecuteTime": {
     "end_time": "2023-09-15T15:58:51.349023Z",
     "start_time": "2023-09-15T15:57:51.070938Z"
    }
   },
   "outputs": [
    {
     "name": "stdout",
     "output_type": "stream",
     "text": [
      "Now progress .... 0 .... loss : 1.6094379124341\n",
      "Now progress .... 20 .... loss : 1.577669540559572\n",
      "Now progress .... 40 .... loss : 1.5632268783394137\n",
      "Now progress .... 60 .... loss : 1.5548773971335375\n",
      "Now progress .... 80 .... loss : 1.548785750613008\n"
     ]
    }
   ],
   "source": [
    "costs = MultipleLogRegression().fit(np.array(df.bow_text.to_list()) , np.array(df.Sentiment.to_list()))"
   ]
  },
  {
   "cell_type": "code",
   "execution_count": 97,
   "id": "70cf2e8c",
   "metadata": {
    "ExecuteTime": {
     "end_time": "2023-09-15T15:58:54.431497Z",
     "start_time": "2023-09-15T15:58:51.397994Z"
    }
   },
   "outputs": [
    {
     "data": {
      "image/png": "[encoded data removed]",
      "text/plain": [
       "<Figure size 432x288 with 1 Axes>"
      ]
     },
     "metadata": {
      "needs_background": "light"
     },
     "output_type": "display_data"
    }
   ],
   "source": [
    "plt.plot(costs)\n",
    "plt.show()"
   ]
  },
  {
   "cell_type": "code",
   "execution_count": null,
   "id": "73ed463e",
   "metadata": {
    "collapsed": true
   },
   "outputs": [],
   "source": []
  }
 ],
 "metadata": {
  "kernelspec": {
   "display_name": "steph_env",
   "language": "python",
   "name": "steph_env"
  },
  "language_info": {
   "codemirror_mode": {
    "name": "ipython",
    "version": 3
   },
   "file_extension": ".py",
   "mimetype": "text/x-python",
   "name": "python",
   "nbconvert_exporter": "python",
   "pygments_lexer": "ipython3",
   "version": "3.6.3"
  },
  "toc": {
   "base_numbering": 1,
   "nav_menu": {},
   "number_sections": true,
   "sideBar": true,
   "skip_h1_title": false,
   "title_cell": "Table of Contents",
   "title_sidebar": "Contents",
   "toc_cell": false,
   "toc_position": {},
   "toc_section_display": true,
   "toc_window_display": true
  },
  "varInspector": {
   "cols": {
    "lenName": 16,
    "lenType": 16,
    "lenVar": 40
   },
   "kernels_config": {
    "python": {
     "delete_cmd_postfix": "",
     "delete_cmd_prefix": "del ",
     "library": "var_list.py",
     "varRefreshCmd": "print(var_dic_list())"
    },
    "r": {
     "delete_cmd_postfix": ") ",
     "delete_cmd_prefix": "rm(",
     "library": "var_list.r",
     "varRefreshCmd": "cat(var_dic_list()) "
    }
   },
   "types_to_exclude": [
    "module",
    "function",
    "builtin_function_or_method",
    "instance",
    "_Feature"
   ],
   "window_display": false
  }
 },
 "nbformat": 4,
 "nbformat_minor": 5
}
